{
 "cells": [
  {
   "cell_type": "code",
   "execution_count": 1,
   "id": "1da870e8",
   "metadata": {},
   "outputs": [],
   "source": [
    "# pytorch\n",
    "import torch\n",
    "import torchvision\n",
    "from torchvision import transforms, datasets, models\n",
    "from torchsummary import summary\n",
    "from torchvision import transforms\n",
    "from PIL import Image\n",
    "from torch.utils.data import Dataset, DataLoader\n",
    "\n",
    "import torch.nn as nn\n",
    "import torch.nn.functional as F\n",
    "import torch.optim as optim\n",
    "from torcheval.metrics.functional import multiclass_f1_score\n",
    "device = 'cuda' if torch.cuda.is_available() else 'cpu'\n",
    "\n",
    "# other\n",
    "import numpy as np\n",
    "import matplotlib.pyplot as plt\n",
    "import copy\n",
    "import time\n",
    "import glob\n",
    "from tqdm import tqdm"
   ]
  },
  {
   "cell_type": "code",
   "execution_count": 2,
   "id": "a790e305",
   "metadata": {},
   "outputs": [],
   "source": [
    "class appleDataset(Dataset):\n",
    "    def __init__(self, path, train, transform=None):\n",
    "        self.path = path\n",
    "        if train:\n",
    "            self.AbNorm_path = path + '/train/AbNorm/'\n",
    "            self.Mot_path = path + '/train/Mot/'\n",
    "            self.Norm_path = path + '/train/Norm/'\n",
    "        else:\n",
    "            self.AbNorm_path = path + '/test/AbNorm/'\n",
    "            self.Mot_path = path + '/test/Mot/'\n",
    "            self.Norm_path = path + '/test/Norm/'\n",
    "        \n",
    "        self.AbNorm_img_list = glob.glob(self.AbNorm_path + '/*.jpg')\n",
    "        self.Mot_img_list = glob.glob(self.Mot_path + '/*.jpg')\n",
    "        self.Norm_img_list = glob.glob(self.Norm_path + '/*.jpg')\n",
    "\n",
    "        self.transform = transform\n",
    "\n",
    "        self.img_list = self.AbNorm_img_list + self.Mot_img_list + self.Norm_img_list\n",
    "        self.class_list = [0] * len(self.AbNorm_img_list) + [1] * len(self.Mot_img_list) + [2] * len(self.Norm_img_list)\n",
    "        \n",
    "    def __len__(self):\n",
    "        return len(self.img_list)\n",
    "    \n",
    "    def __getitem__(self, idx):\n",
    "        img_path = self.img_list[idx]\n",
    "        label = self.class_list[idx]\n",
    "        img = Image.open(img_path)\n",
    "\n",
    "        if self.transform is not None:\n",
    "            img = self.transform(img)\n",
    "\n",
    "        return img, label\n"
   ]
  },
  {
   "cell_type": "code",
   "execution_count": 3,
   "id": "f5d0e38f",
   "metadata": {},
   "outputs": [],
   "source": [
    "transform = transforms.Compose([transforms.ToTensor()])\n",
    "\n",
    "train_dataset = appleDataset(path='./input', train=True, transform=transform)\n",
    "trainloader = DataLoader(dataset=train_dataset,\n",
    "                        batch_size=512,\n",
    "                        shuffle=True,\n",
    "                        drop_last=False)\n",
    "    \n",
    "test_dataset = appleDataset(path='./input', train=False, transform=transform)\n",
    "testloader = DataLoader(dataset=test_dataset,\n",
    "                        batch_size=256,\n",
    "                        shuffle=True,\n",
    "                        drop_last=False\n",
    "                        )"
   ]
  },
  {
   "cell_type": "code",
   "execution_count": 4,
   "id": "9c5adb4c",
   "metadata": {},
   "outputs": [],
   "source": [
    "classes = ('Norm','Mot','AbNorm')"
   ]
  },
  {
   "cell_type": "code",
   "execution_count": 5,
   "id": "eb66d9c3",
   "metadata": {},
   "outputs": [
    {
     "name": "stderr",
     "output_type": "stream",
     "text": [
      "C:\\Users\\2469l\\AppData\\Roaming\\Python\\Python310\\site-packages\\torchvision\\models\\_utils.py:223: UserWarning: Arguments other than a weight enum or `None` for 'weights' are deprecated since 0.13 and may be removed in the future. The current behavior is equivalent to passing `weights=ResNet18_Weights.IMAGENET1K_V1`. You can also use `weights=ResNet18_Weights.DEFAULT` to get the most up-to-date weights.\n",
      "  warnings.warn(msg)\n"
     ]
    }
   ],
   "source": [
    "resnet_pt = models.resnet18(weights=True)"
   ]
  },
  {
   "cell_type": "code",
   "execution_count": 6,
   "id": "6a2c8741",
   "metadata": {},
   "outputs": [],
   "source": [
    "unfreeze = ['layer4.0.conv1.weight', 'layer4.0.bn1.weight', 'layer4.0.bn1.bias', 'layer4.0.bn1.running_mean', 'layer4.0.bn1.running_var', 'layer4.0.bn1.num_batches_tracked', 'layer4.0.conv2.weight', 'layer4.0.bn2.weight', 'layer4.0.bn2.bias', 'layer4.0.bn2.running_mean', 'layer4.0.bn2.running_var', 'layer4.0.bn2.num_batches_tracked', 'layer4.0.downsample.0.weight', 'layer4.0.downsample.1.weight', 'layer4.0.downsample.1.bias', 'layer4.0.downsample.1.running_mean', 'layer4.0.downsample.1.running_var', 'layer4.0.downsample.1.num_batches_tracked', 'layer4.1.conv1.weight', 'layer4.1.bn1.weight', 'layer4.1.bn1.bias', 'layer4.1.bn1.running_mean', 'layer4.1.bn1.running_var', 'layer4.1.bn1.num_batches_tracked', 'layer4.1.conv2.weight', 'layer4.1.bn2.weight', 'layer4.1.bn2.bias', 'layer4.1.bn2.running_mean', 'layer4.1.bn2.running_var', 'layer4.1.bn2.num_batches_tracked', 'fc.weight', 'fc.bias'] "
   ]
  },
  {
   "cell_type": "code",
   "execution_count": 7,
   "id": "9f9d90fa",
   "metadata": {},
   "outputs": [],
   "source": [
    "resnet_pt = models.resnet18(weights=True)\n",
    "# freezing\n",
    "for name, param in resnet_pt.named_parameters():\n",
    "    if name in unfreeze:\n",
    "        param.requires_grad = True\n",
    "    else:\n",
    "        param.requires_grad = False\n",
    "    \n",
    "# fc layer 수정\n",
    "fc_in_features = resnet_pt.fc.in_features\n",
    "resnet_pt.fc = nn.Linear(fc_in_features, len(classes))\n",
    "resnet_pt = resnet_pt.to(device)"
   ]
  },
  {
   "cell_type": "code",
   "execution_count": 8,
   "id": "245c576b",
   "metadata": {},
   "outputs": [
    {
     "name": "stdout",
     "output_type": "stream",
     "text": [
      "----------------------------------------------------------------\n",
      "        Layer (type)               Output Shape         Param #\n",
      "================================================================\n",
      "            Conv2d-1           [-1, 64, 16, 16]           9,408\n",
      "       BatchNorm2d-2           [-1, 64, 16, 16]             128\n",
      "              ReLU-3           [-1, 64, 16, 16]               0\n",
      "         MaxPool2d-4             [-1, 64, 8, 8]               0\n",
      "            Conv2d-5             [-1, 64, 8, 8]          36,864\n",
      "       BatchNorm2d-6             [-1, 64, 8, 8]             128\n",
      "              ReLU-7             [-1, 64, 8, 8]               0\n",
      "            Conv2d-8             [-1, 64, 8, 8]          36,864\n",
      "       BatchNorm2d-9             [-1, 64, 8, 8]             128\n",
      "             ReLU-10             [-1, 64, 8, 8]               0\n",
      "       BasicBlock-11             [-1, 64, 8, 8]               0\n",
      "           Conv2d-12             [-1, 64, 8, 8]          36,864\n",
      "      BatchNorm2d-13             [-1, 64, 8, 8]             128\n",
      "             ReLU-14             [-1, 64, 8, 8]               0\n",
      "           Conv2d-15             [-1, 64, 8, 8]          36,864\n",
      "      BatchNorm2d-16             [-1, 64, 8, 8]             128\n",
      "             ReLU-17             [-1, 64, 8, 8]               0\n",
      "       BasicBlock-18             [-1, 64, 8, 8]               0\n",
      "           Conv2d-19            [-1, 128, 4, 4]          73,728\n",
      "      BatchNorm2d-20            [-1, 128, 4, 4]             256\n",
      "             ReLU-21            [-1, 128, 4, 4]               0\n",
      "           Conv2d-22            [-1, 128, 4, 4]         147,456\n",
      "      BatchNorm2d-23            [-1, 128, 4, 4]             256\n",
      "           Conv2d-24            [-1, 128, 4, 4]           8,192\n",
      "      BatchNorm2d-25            [-1, 128, 4, 4]             256\n",
      "             ReLU-26            [-1, 128, 4, 4]               0\n",
      "       BasicBlock-27            [-1, 128, 4, 4]               0\n",
      "           Conv2d-28            [-1, 128, 4, 4]         147,456\n",
      "      BatchNorm2d-29            [-1, 128, 4, 4]             256\n",
      "             ReLU-30            [-1, 128, 4, 4]               0\n",
      "           Conv2d-31            [-1, 128, 4, 4]         147,456\n",
      "      BatchNorm2d-32            [-1, 128, 4, 4]             256\n",
      "             ReLU-33            [-1, 128, 4, 4]               0\n",
      "       BasicBlock-34            [-1, 128, 4, 4]               0\n",
      "           Conv2d-35            [-1, 256, 2, 2]         294,912\n",
      "      BatchNorm2d-36            [-1, 256, 2, 2]             512\n",
      "             ReLU-37            [-1, 256, 2, 2]               0\n",
      "           Conv2d-38            [-1, 256, 2, 2]         589,824\n",
      "      BatchNorm2d-39            [-1, 256, 2, 2]             512\n",
      "           Conv2d-40            [-1, 256, 2, 2]          32,768\n",
      "      BatchNorm2d-41            [-1, 256, 2, 2]             512\n",
      "             ReLU-42            [-1, 256, 2, 2]               0\n",
      "       BasicBlock-43            [-1, 256, 2, 2]               0\n",
      "           Conv2d-44            [-1, 256, 2, 2]         589,824\n",
      "      BatchNorm2d-45            [-1, 256, 2, 2]             512\n",
      "             ReLU-46            [-1, 256, 2, 2]               0\n",
      "           Conv2d-47            [-1, 256, 2, 2]         589,824\n",
      "      BatchNorm2d-48            [-1, 256, 2, 2]             512\n",
      "             ReLU-49            [-1, 256, 2, 2]               0\n",
      "       BasicBlock-50            [-1, 256, 2, 2]               0\n",
      "           Conv2d-51            [-1, 512, 1, 1]       1,179,648\n",
      "      BatchNorm2d-52            [-1, 512, 1, 1]           1,024\n",
      "             ReLU-53            [-1, 512, 1, 1]               0\n",
      "           Conv2d-54            [-1, 512, 1, 1]       2,359,296\n",
      "      BatchNorm2d-55            [-1, 512, 1, 1]           1,024\n",
      "           Conv2d-56            [-1, 512, 1, 1]         131,072\n",
      "      BatchNorm2d-57            [-1, 512, 1, 1]           1,024\n",
      "             ReLU-58            [-1, 512, 1, 1]               0\n",
      "       BasicBlock-59            [-1, 512, 1, 1]               0\n",
      "           Conv2d-60            [-1, 512, 1, 1]       2,359,296\n",
      "      BatchNorm2d-61            [-1, 512, 1, 1]           1,024\n",
      "             ReLU-62            [-1, 512, 1, 1]               0\n",
      "           Conv2d-63            [-1, 512, 1, 1]       2,359,296\n",
      "      BatchNorm2d-64            [-1, 512, 1, 1]           1,024\n",
      "             ReLU-65            [-1, 512, 1, 1]               0\n",
      "       BasicBlock-66            [-1, 512, 1, 1]               0\n",
      "AdaptiveAvgPool2d-67            [-1, 512, 1, 1]               0\n",
      "           Linear-68                    [-1, 3]           1,539\n",
      "================================================================\n",
      "Total params: 11,178,051\n",
      "Trainable params: 8,395,267\n",
      "Non-trainable params: 2,782,784\n",
      "----------------------------------------------------------------\n",
      "Input size (MB): 0.01\n",
      "Forward/backward pass size (MB): 1.29\n",
      "Params size (MB): 42.64\n",
      "Estimated Total Size (MB): 43.94\n",
      "----------------------------------------------------------------\n"
     ]
    }
   ],
   "source": [
    "summary(resnet_pt, (3,32,32))"
   ]
  },
  {
   "cell_type": "code",
   "execution_count": 9,
   "id": "e9f974f8",
   "metadata": {},
   "outputs": [],
   "source": [
    "criterion = nn.CrossEntropyLoss()\n",
    "optimizer = optim.SGD(resnet_pt.parameters(), lr=0.001,\n",
    "                      momentum=0.9)\n",
    "scheduler = torch.optim.lr_scheduler.CosineAnnealingLR(optimizer, T_max=200)"
   ]
  },
  {
   "cell_type": "code",
   "execution_count": 10,
   "id": "dfc8c9ce",
   "metadata": {},
   "outputs": [],
   "source": [
    "# Training\n",
    "def train(epoch, model, criterion, optimizer):\n",
    "    model.train()\n",
    "    train_loss = 0\n",
    "    correct = 0\n",
    "    total = 0\n",
    "    predicted_list = 0\n",
    "    labels_list = 0\n",
    "    Norm_count = {\"correct\":0,\"total\":0}\n",
    "    Mot_count = {\"correct\":0,\"total\":0}\n",
    "    AbNorm_count = {\"correct\":0,\"total\":0}\n",
    "    \n",
    "    for batch_idx, (inputs, labels) in enumerate(tqdm(trainloader)):\n",
    "        inputs, labels = inputs.to(device), labels.to(device)\n",
    "        optimizer.zero_grad()\n",
    "        outputs = model(inputs)\n",
    "        loss = criterion(outputs, labels)\n",
    "        loss.backward()\n",
    "        optimizer.step()\n",
    "\n",
    "        train_loss += loss.item()*inputs.size(0)\n",
    "        _, predicted = outputs.max(1)\n",
    "        if batch_idx == 0:\n",
    "            predicted_list=predicted\n",
    "        else:\n",
    "            predicted_list=torch.cat((predicted_list,predicted), dim=0)\n",
    "            \n",
    "        if batch_idx == 0:\n",
    "            labels_list=labels\n",
    "        else:\n",
    "            labels_list=torch.cat((labels_list, labels), dim=0)\n",
    "            \n",
    "        total += labels.size(0)\n",
    "        correct += predicted.eq(labels).sum().item()\n",
    "        correct_compare = predicted.eq(labels)\n",
    "        for i in range(3):\n",
    "            if i==0:\n",
    "                Norm_count['correct'] += predicted[correct_compare].tolist().count(i)\n",
    "                Norm_count['total'] += predicted.tolist().count(i)\n",
    "            elif i==1:\n",
    "                Mot_count['correct'] += predicted[correct_compare].tolist().count(i)\n",
    "                Mot_count['total'] += predicted.tolist().count(i)\n",
    "            else:\n",
    "                AbNorm_count['correct'] += predicted[correct_compare].tolist().count(i)\n",
    "                AbNorm_count['total'] += predicted.tolist().count(i)\n",
    "            \n",
    "    epoch_loss = train_loss/total\n",
    "    epoch_acc = correct/total*100\n",
    "    f1_score = multiclass_f1_score(predicted_list, labels_list, num_classes=3, average=\"macro\")\n",
    "    Norm = Norm_count['correct']/Norm_count['total']\n",
    "    Mot = Mot_count['correct']/Mot_count['total']\n",
    "    AbNorm = AbNorm_count['correct']/AbNorm_count['total']\n",
    "    print(f\"Test | Loss: {epoch_loss: .4f} Acc: {epoch_acc: .2f}  F1-Score: {f1_score:.2f} ({correct}/{total}) Norm:{Norm:.2f} Mot:{Mot:.2f} AbNorm:{AbNorm:.2f}\")\n",
    "    return epoch_loss, epoch_acc, f1_score\n",
    "\n",
    "def test(epoch, model, criterion, optimizer):\n",
    "    model.eval()\n",
    "    test_loss = 0\n",
    "    correct = 0\n",
    "    total = 0\n",
    "    predicted_list = 0\n",
    "    labels_list = 0\n",
    "    Norm_count = {\"correct\":0,\"total\":0}\n",
    "    Mot_count = {\"correct\":0,\"total\":0}\n",
    "    AbNorm_count = {\"correct\":0,\"total\":0}\n",
    "    with torch.no_grad():\n",
    "        for batch_idx, (inputs, labels) in enumerate(tqdm(testloader)):\n",
    "            inputs, labels = inputs.to(device), labels.to(device)\n",
    "            outputs = model(inputs)\n",
    "            loss = criterion(outputs, labels)\n",
    "\n",
    "            test_loss += loss.item()*inputs.size(0)\n",
    "            _, predicted = outputs.max(1)\n",
    "            if batch_idx == 0:\n",
    "                predicted_list=predicted\n",
    "            else:\n",
    "                predicted_list=torch.cat((predicted_list,predicted), dim=0)\n",
    "            \n",
    "            if batch_idx == 0:\n",
    "                labels_list=labels\n",
    "            else:\n",
    "                labels_list=torch.cat((labels_list, labels), dim=0)\n",
    "                \n",
    "            total += labels.size(0)\n",
    "            correct += predicted.eq(labels).sum().item()\n",
    "            correct_compare = predicted.eq(labels)\n",
    "            \n",
    "            for i in range(3):\n",
    "                if i==0:\n",
    "                    Norm_count['correct'] += predicted[correct_compare].tolist().count(i)\n",
    "                    Norm_count['total'] += predicted.tolist().count(i)\n",
    "                elif i==1:\n",
    "                    Mot_count['correct'] += predicted[correct_compare].tolist().count(i)\n",
    "                    Mot_count['total'] += predicted.tolist().count(i)\n",
    "                else:\n",
    "                    AbNorm_count['correct'] += predicted[correct_compare].tolist().count(i)\n",
    "                    AbNorm_count['total'] += predicted.tolist().count(i)\n",
    "\n",
    "            \n",
    "        epoch_loss = test_loss/total\n",
    "        epoch_acc = correct/total*100\n",
    "        f1_score = multiclass_f1_score(predicted_list, labels_list, num_classes=3, average=\"macro\")\n",
    "        Norm = Norm_count['correct']/Norm_count['total']\n",
    "        Mot = Mot_count['correct']/Mot_count['total']\n",
    "        AbNorm = AbNorm_count['correct']/AbNorm_count['total']\n",
    "        print(f\"Test | Loss: {epoch_loss: .4f} Acc: {epoch_acc: .2f}  F1-Score: {f1_score:.2f} ({correct}/{total}) Norm:{Norm:.2f} Mot:{Mot:.2f} AbNorm:{AbNorm:.2f}\")\n",
    "    return epoch_loss, epoch_acc, f1_score"
   ]
  },
  {
   "cell_type": "code",
   "execution_count": 11,
   "id": "0f7f96ce",
   "metadata": {},
   "outputs": [
    {
     "name": "stdout",
     "output_type": "stream",
     "text": [
      "Epoch 0\n"
     ]
    },
    {
     "name": "stderr",
     "output_type": "stream",
     "text": [
      "100%|██████████████████████████████████████████████████████████████████████████████████| 83/83 [12:56<00:00,  9.35s/it]\n"
     ]
    },
    {
     "name": "stdout",
     "output_type": "stream",
     "text": [
      "Test | Loss:  0.3830 Acc:  86.55  F1-Score: 0.78 (36720/42426) Norm:0.85 Mot:0.94 AbNorm:0.90\n"
     ]
    },
    {
     "name": "stderr",
     "output_type": "stream",
     "text": [
      "100%|██████████████████████████████████████████████████████████████████████████████████| 21/21 [01:15<00:00,  3.58s/it]\n"
     ]
    },
    {
     "name": "stdout",
     "output_type": "stream",
     "text": [
      "Test | Loss:  0.1659 Acc:  95.53  F1-Score: 0.94 (5069/5306) Norm:0.96 Mot:0.98 AbNorm:0.93\n",
      "Epoch 1\n"
     ]
    },
    {
     "name": "stderr",
     "output_type": "stream",
     "text": [
      "100%|██████████████████████████████████████████████████████████████████████████████████| 83/83 [12:43<00:00,  9.20s/it]\n"
     ]
    },
    {
     "name": "stdout",
     "output_type": "stream",
     "text": [
      "Test | Loss:  0.1228 Acc:  96.44  F1-Score: 0.95 (40917/42426) Norm:0.97 Mot:0.98 AbNorm:0.94\n"
     ]
    },
    {
     "name": "stderr",
     "output_type": "stream",
     "text": [
      "100%|██████████████████████████████████████████████████████████████████████████████████| 21/21 [01:14<00:00,  3.57s/it]\n"
     ]
    },
    {
     "name": "stdout",
     "output_type": "stream",
     "text": [
      "Test | Loss:  0.1042 Acc:  96.80  F1-Score: 0.96 (5136/5306) Norm:0.97 Mot:0.98 AbNorm:0.94\n",
      "Epoch 2\n"
     ]
    },
    {
     "name": "stderr",
     "output_type": "stream",
     "text": [
      "100%|██████████████████████████████████████████████████████████████████████████████████| 83/83 [12:48<00:00,  9.26s/it]\n"
     ]
    },
    {
     "name": "stdout",
     "output_type": "stream",
     "text": [
      "Test | Loss:  0.0851 Acc:  97.42  F1-Score: 0.97 (41330/42426) Norm:0.98 Mot:0.99 AbNorm:0.95\n"
     ]
    },
    {
     "name": "stderr",
     "output_type": "stream",
     "text": [
      "100%|██████████████████████████████████████████████████████████████████████████████████| 21/21 [01:14<00:00,  3.53s/it]\n"
     ]
    },
    {
     "name": "stdout",
     "output_type": "stream",
     "text": [
      "Test | Loss:  0.0809 Acc:  97.32  F1-Score: 0.97 (5164/5306) Norm:0.98 Mot:0.98 AbNorm:0.95\n",
      "Epoch 3\n"
     ]
    },
    {
     "name": "stderr",
     "output_type": "stream",
     "text": [
      "100%|██████████████████████████████████████████████████████████████████████████████████| 83/83 [12:42<00:00,  9.18s/it]\n"
     ]
    },
    {
     "name": "stdout",
     "output_type": "stream",
     "text": [
      "Test | Loss:  0.0664 Acc:  97.97  F1-Score: 0.97 (41564/42426) Norm:0.98 Mot:0.99 AbNorm:0.96\n"
     ]
    },
    {
     "name": "stderr",
     "output_type": "stream",
     "text": [
      "100%|██████████████████████████████████████████████████████████████████████████████████| 21/21 [01:14<00:00,  3.56s/it]\n"
     ]
    },
    {
     "name": "stdout",
     "output_type": "stream",
     "text": [
      "Test | Loss:  0.0681 Acc:  97.78  F1-Score: 0.97 (5188/5306) Norm:0.98 Mot:0.99 AbNorm:0.96\n",
      "Epoch 4\n"
     ]
    },
    {
     "name": "stderr",
     "output_type": "stream",
     "text": [
      "100%|██████████████████████████████████████████████████████████████████████████████████| 83/83 [12:51<00:00,  9.30s/it]\n"
     ]
    },
    {
     "name": "stdout",
     "output_type": "stream",
     "text": [
      "Test | Loss:  0.0554 Acc:  98.29  F1-Score: 0.98 (41700/42426) Norm:0.99 Mot:0.99 AbNorm:0.97\n"
     ]
    },
    {
     "name": "stderr",
     "output_type": "stream",
     "text": [
      "100%|██████████████████████████████████████████████████████████████████████████████████| 21/21 [01:14<00:00,  3.54s/it]\n"
     ]
    },
    {
     "name": "stdout",
     "output_type": "stream",
     "text": [
      "Test | Loss:  0.0596 Acc:  98.02  F1-Score: 0.98 (5201/5306) Norm:0.99 Mot:0.99 AbNorm:0.96\n",
      "Epoch 5\n"
     ]
    },
    {
     "name": "stderr",
     "output_type": "stream",
     "text": [
      "100%|██████████████████████████████████████████████████████████████████████████████████| 83/83 [12:38<00:00,  9.14s/it]\n"
     ]
    },
    {
     "name": "stdout",
     "output_type": "stream",
     "text": [
      "Test | Loss:  0.0476 Acc:  98.51  F1-Score: 0.98 (41794/42426) Norm:0.99 Mot:0.99 AbNorm:0.97\n"
     ]
    },
    {
     "name": "stderr",
     "output_type": "stream",
     "text": [
      "100%|██████████████████████████████████████████████████████████████████████████████████| 21/21 [01:13<00:00,  3.51s/it]\n"
     ]
    },
    {
     "name": "stdout",
     "output_type": "stream",
     "text": [
      "Test | Loss:  0.0532 Acc:  98.13  F1-Score: 0.98 (5207/5306) Norm:0.99 Mot:0.99 AbNorm:0.96\n",
      "Epoch 6\n"
     ]
    },
    {
     "name": "stderr",
     "output_type": "stream",
     "text": [
      "100%|██████████████████████████████████████████████████████████████████████████████████| 83/83 [12:39<00:00,  9.15s/it]\n"
     ]
    },
    {
     "name": "stdout",
     "output_type": "stream",
     "text": [
      "Test | Loss:  0.0413 Acc:  98.75  F1-Score: 0.98 (41897/42426) Norm:0.99 Mot:0.99 AbNorm:0.97\n"
     ]
    },
    {
     "name": "stderr",
     "output_type": "stream",
     "text": [
      "100%|██████████████████████████████████████████████████████████████████████████████████| 21/21 [01:13<00:00,  3.50s/it]\n"
     ]
    },
    {
     "name": "stdout",
     "output_type": "stream",
     "text": [
      "Test | Loss:  0.0483 Acc:  98.40  F1-Score: 0.98 (5221/5306) Norm:0.99 Mot:0.99 AbNorm:0.97\n",
      "Epoch 7\n"
     ]
    },
    {
     "name": "stderr",
     "output_type": "stream",
     "text": [
      "100%|██████████████████████████████████████████████████████████████████████████████████| 83/83 [12:36<00:00,  9.12s/it]\n"
     ]
    },
    {
     "name": "stdout",
     "output_type": "stream",
     "text": [
      "Test | Loss:  0.0372 Acc:  98.91  F1-Score: 0.99 (41963/42426) Norm:0.99 Mot:0.99 AbNorm:0.98\n"
     ]
    },
    {
     "name": "stderr",
     "output_type": "stream",
     "text": [
      "100%|██████████████████████████████████████████████████████████████████████████████████| 21/21 [01:13<00:00,  3.51s/it]\n"
     ]
    },
    {
     "name": "stdout",
     "output_type": "stream",
     "text": [
      "Test | Loss:  0.0444 Acc:  98.55  F1-Score: 0.98 (5229/5306) Norm:0.99 Mot:0.99 AbNorm:0.97\n",
      "Epoch 8\n"
     ]
    },
    {
     "name": "stderr",
     "output_type": "stream",
     "text": [
      "100%|██████████████████████████████████████████████████████████████████████████████████| 83/83 [12:38<00:00,  9.14s/it]\n"
     ]
    },
    {
     "name": "stdout",
     "output_type": "stream",
     "text": [
      "Test | Loss:  0.0333 Acc:  99.01  F1-Score: 0.99 (42008/42426) Norm:0.99 Mot:0.99 AbNorm:0.98\n"
     ]
    },
    {
     "name": "stderr",
     "output_type": "stream",
     "text": [
      "100%|██████████████████████████████████████████████████████████████████████████████████| 21/21 [01:13<00:00,  3.50s/it]\n"
     ]
    },
    {
     "name": "stdout",
     "output_type": "stream",
     "text": [
      "Test | Loss:  0.0413 Acc:  98.62  F1-Score: 0.98 (5233/5306) Norm:0.99 Mot:0.99 AbNorm:0.97\n",
      "Epoch 9\n"
     ]
    },
    {
     "name": "stderr",
     "output_type": "stream",
     "text": [
      "100%|██████████████████████████████████████████████████████████████████████████████████| 83/83 [12:40<00:00,  9.16s/it]\n"
     ]
    },
    {
     "name": "stdout",
     "output_type": "stream",
     "text": [
      "Test | Loss:  0.0302 Acc:  99.12  F1-Score: 0.99 (42052/42426) Norm:0.99 Mot:1.00 AbNorm:0.98\n"
     ]
    },
    {
     "name": "stderr",
     "output_type": "stream",
     "text": [
      "100%|██████████████████████████████████████████████████████████████████████████████████| 21/21 [01:14<00:00,  3.56s/it]\n"
     ]
    },
    {
     "name": "stdout",
     "output_type": "stream",
     "text": [
      "Test | Loss:  0.0389 Acc:  98.74  F1-Score: 0.98 (5239/5306) Norm:0.99 Mot:0.99 AbNorm:0.98\n",
      "Epoch 10\n"
     ]
    },
    {
     "name": "stderr",
     "output_type": "stream",
     "text": [
      "100%|██████████████████████████████████████████████████████████████████████████████████| 83/83 [12:46<00:00,  9.23s/it]\n"
     ]
    },
    {
     "name": "stdout",
     "output_type": "stream",
     "text": [
      "Test | Loss:  0.0269 Acc:  99.22  F1-Score: 0.99 (42093/42426) Norm:0.99 Mot:1.00 AbNorm:0.98\n"
     ]
    },
    {
     "name": "stderr",
     "output_type": "stream",
     "text": [
      "100%|██████████████████████████████████████████████████████████████████████████████████| 21/21 [01:13<00:00,  3.49s/it]\n"
     ]
    },
    {
     "name": "stdout",
     "output_type": "stream",
     "text": [
      "Test | Loss:  0.0368 Acc:  98.76  F1-Score: 0.98 (5240/5306) Norm:0.99 Mot:0.99 AbNorm:0.98\n",
      "Epoch 11\n"
     ]
    },
    {
     "name": "stderr",
     "output_type": "stream",
     "text": [
      "100%|██████████████████████████████████████████████████████████████████████████████████| 83/83 [12:36<00:00,  9.11s/it]\n"
     ]
    },
    {
     "name": "stdout",
     "output_type": "stream",
     "text": [
      "Test | Loss:  0.0248 Acc:  99.28  F1-Score: 0.99 (42121/42426) Norm:0.99 Mot:1.00 AbNorm:0.98\n"
     ]
    },
    {
     "name": "stderr",
     "output_type": "stream",
     "text": [
      "100%|██████████████████████████████████████████████████████████████████████████████████| 21/21 [01:13<00:00,  3.50s/it]\n"
     ]
    },
    {
     "name": "stdout",
     "output_type": "stream",
     "text": [
      "Test | Loss:  0.0353 Acc:  98.79  F1-Score: 0.99 (5242/5306) Norm:0.99 Mot:0.99 AbNorm:0.98\n",
      "Epoch 12\n"
     ]
    },
    {
     "name": "stderr",
     "output_type": "stream",
     "text": [
      "100%|██████████████████████████████████████████████████████████████████████████████████| 83/83 [12:37<00:00,  9.12s/it]\n"
     ]
    },
    {
     "name": "stdout",
     "output_type": "stream",
     "text": [
      "Test | Loss:  0.0224 Acc:  99.36  F1-Score: 0.99 (42155/42426) Norm:1.00 Mot:1.00 AbNorm:0.99\n"
     ]
    },
    {
     "name": "stderr",
     "output_type": "stream",
     "text": [
      "100%|██████████████████████████████████████████████████████████████████████████████████| 21/21 [01:13<00:00,  3.50s/it]\n"
     ]
    },
    {
     "name": "stdout",
     "output_type": "stream",
     "text": [
      "Test | Loss:  0.0334 Acc:  98.85  F1-Score: 0.99 (5245/5306) Norm:0.99 Mot:0.99 AbNorm:0.98\n",
      "Epoch 13\n"
     ]
    },
    {
     "name": "stderr",
     "output_type": "stream",
     "text": [
      "100%|██████████████████████████████████████████████████████████████████████████████████| 83/83 [12:39<00:00,  9.15s/it]\n"
     ]
    },
    {
     "name": "stdout",
     "output_type": "stream",
     "text": [
      "Test | Loss:  0.0209 Acc:  99.41  F1-Score: 0.99 (42177/42426) Norm:1.00 Mot:1.00 AbNorm:0.99\n"
     ]
    },
    {
     "name": "stderr",
     "output_type": "stream",
     "text": [
      "100%|██████████████████████████████████████████████████████████████████████████████████| 21/21 [01:16<00:00,  3.62s/it]\n"
     ]
    },
    {
     "name": "stdout",
     "output_type": "stream",
     "text": [
      "Test | Loss:  0.0322 Acc:  98.98  F1-Score: 0.99 (5252/5306) Norm:0.99 Mot:0.99 AbNorm:0.98\n",
      "Epoch 14\n"
     ]
    },
    {
     "name": "stderr",
     "output_type": "stream",
     "text": [
      "100%|██████████████████████████████████████████████████████████████████████████████████| 83/83 [12:47<00:00,  9.25s/it]\n"
     ]
    },
    {
     "name": "stdout",
     "output_type": "stream",
     "text": [
      "Test | Loss:  0.0195 Acc:  99.46  F1-Score: 0.99 (42196/42426) Norm:1.00 Mot:1.00 AbNorm:0.99\n"
     ]
    },
    {
     "name": "stderr",
     "output_type": "stream",
     "text": [
      "100%|██████████████████████████████████████████████████████████████████████████████████| 21/21 [01:14<00:00,  3.53s/it]\n"
     ]
    },
    {
     "name": "stdout",
     "output_type": "stream",
     "text": [
      "Test | Loss:  0.0309 Acc:  98.98  F1-Score: 0.99 (5252/5306) Norm:0.99 Mot:0.99 AbNorm:0.98\n",
      "Epoch 15\n"
     ]
    },
    {
     "name": "stderr",
     "output_type": "stream",
     "text": [
      "100%|██████████████████████████████████████████████████████████████████████████████████| 83/83 [12:52<00:00,  9.30s/it]\n"
     ]
    },
    {
     "name": "stdout",
     "output_type": "stream",
     "text": [
      "Test | Loss:  0.0193 Acc:  99.50  F1-Score: 0.99 (42214/42426) Norm:1.00 Mot:1.00 AbNorm:0.99\n"
     ]
    },
    {
     "name": "stderr",
     "output_type": "stream",
     "text": [
      "100%|██████████████████████████████████████████████████████████████████████████████████| 21/21 [01:17<00:00,  3.68s/it]\n"
     ]
    },
    {
     "name": "stdout",
     "output_type": "stream",
     "text": [
      "Test | Loss:  0.0308 Acc:  99.02  F1-Score: 0.99 (5254/5306) Norm:0.99 Mot:0.99 AbNorm:0.98\n",
      "Epoch 16\n"
     ]
    },
    {
     "name": "stderr",
     "output_type": "stream",
     "text": [
      "100%|██████████████████████████████████████████████████████████████████████████████████| 83/83 [13:27<00:00,  9.73s/it]\n"
     ]
    },
    {
     "name": "stdout",
     "output_type": "stream",
     "text": [
      "Test | Loss:  0.0182 Acc:  99.51  F1-Score: 0.99 (42218/42426) Norm:1.00 Mot:1.00 AbNorm:0.99\n"
     ]
    },
    {
     "name": "stderr",
     "output_type": "stream",
     "text": [
      "100%|██████████████████████████████████████████████████████████████████████████████████| 21/21 [01:16<00:00,  3.63s/it]\n"
     ]
    },
    {
     "name": "stdout",
     "output_type": "stream",
     "text": [
      "Test | Loss:  0.0299 Acc:  98.98  F1-Score: 0.99 (5252/5306) Norm:0.99 Mot:0.99 AbNorm:0.98\n",
      "Epoch 17\n"
     ]
    },
    {
     "name": "stderr",
     "output_type": "stream",
     "text": [
      "100%|██████████████████████████████████████████████████████████████████████████████████| 83/83 [13:09<00:00,  9.51s/it]\n"
     ]
    },
    {
     "name": "stdout",
     "output_type": "stream",
     "text": [
      "Test | Loss:  0.0180 Acc:  99.54  F1-Score: 0.99 (42231/42426) Norm:1.00 Mot:1.00 AbNorm:0.99\n"
     ]
    },
    {
     "name": "stderr",
     "output_type": "stream",
     "text": [
      "100%|██████████████████████████████████████████████████████████████████████████████████| 21/21 [01:18<00:00,  3.73s/it]\n"
     ]
    },
    {
     "name": "stdout",
     "output_type": "stream",
     "text": [
      "Test | Loss:  0.0301 Acc:  98.91  F1-Score: 0.99 (5248/5306) Norm:0.99 Mot:0.99 AbNorm:0.98\n",
      "Epoch 18\n"
     ]
    },
    {
     "name": "stderr",
     "output_type": "stream",
     "text": [
      "100%|██████████████████████████████████████████████████████████████████████████████████| 83/83 [13:26<00:00,  9.71s/it]\n"
     ]
    },
    {
     "name": "stdout",
     "output_type": "stream",
     "text": [
      "Test | Loss:  0.0180 Acc:  99.53  F1-Score: 0.99 (42227/42426) Norm:1.00 Mot:1.00 AbNorm:0.99\n"
     ]
    },
    {
     "name": "stderr",
     "output_type": "stream",
     "text": [
      "100%|██████████████████████████████████████████████████████████████████████████████████| 21/21 [01:17<00:00,  3.71s/it]\n"
     ]
    },
    {
     "name": "stdout",
     "output_type": "stream",
     "text": [
      "Test | Loss:  0.0300 Acc:  99.02  F1-Score: 0.99 (5254/5306) Norm:0.99 Mot:0.99 AbNorm:0.98\n",
      "Epoch 19\n"
     ]
    },
    {
     "name": "stderr",
     "output_type": "stream",
     "text": [
      "100%|██████████████████████████████████████████████████████████████████████████████████| 83/83 [13:25<00:00,  9.71s/it]\n"
     ]
    },
    {
     "name": "stdout",
     "output_type": "stream",
     "text": [
      "Test | Loss:  0.0180 Acc:  99.53  F1-Score: 0.99 (42225/42426) Norm:1.00 Mot:1.00 AbNorm:0.99\n"
     ]
    },
    {
     "name": "stderr",
     "output_type": "stream",
     "text": [
      "100%|██████████████████████████████████████████████████████████████████████████████████| 21/21 [01:18<00:00,  3.74s/it]"
     ]
    },
    {
     "name": "stdout",
     "output_type": "stream",
     "text": [
      "Test | Loss:  0.0297 Acc:  99.02  F1-Score: 0.99 (5254/5306) Norm:0.99 Mot:0.99 AbNorm:0.98\n",
      "**Learning time: 282m 7s\n"
     ]
    },
    {
     "name": "stderr",
     "output_type": "stream",
     "text": [
      "\n"
     ]
    }
   ],
   "source": [
    "tart_time = time.time()\n",
    "best_acc = 0\n",
    "epoch_length = 20\n",
    "save_loss = {\"train\":[],\n",
    "             \"test\":[]}\n",
    "save_acc = {\"train\":[],\n",
    "             \"test\":[]}\n",
    "save_f1 = {\"train\":[],\n",
    "            \"test\":[]}\n",
    "start_time= time.time()\n",
    "\n",
    "for epoch in range(epoch_length):\n",
    "    print(\"Epoch %s\" % epoch)\n",
    "    train_loss, train_acc, train_f1 = train(epoch, resnet_pt, criterion, optimizer)\n",
    "    save_loss['train'].append(train_loss)\n",
    "    save_acc['train'].append(train_acc)\n",
    "    save_f1['train'].append(train_f1)\n",
    "    \n",
    "    test_loss, test_acc, test_f1 = test(epoch, resnet_pt, criterion, optimizer)\n",
    "    save_loss['test'].append(test_loss)\n",
    "    save_acc['test'].append(test_acc)\n",
    "    save_f1['test'].append(test_f1)\n",
    "\n",
    "    scheduler.step()\n",
    "\n",
    "    # Save model\n",
    "    if test_acc > best_acc:\n",
    "        best_acc = test_acc\n",
    "        best_model_wts = copy.deepcopy(resnet_pt.state_dict())\n",
    "    resnet_pt.load_state_dict(best_model_wts)\n",
    "\n",
    "learning_time = time.time() - start_time\n",
    "print(f'**Learning time: {learning_time // 60:.0f}m {learning_time % 60:.0f}s')"
   ]
  },
  {
   "cell_type": "code",
   "execution_count": null,
   "id": "b5f48504",
   "metadata": {},
   "outputs": [],
   "source": []
  },
  {
   "cell_type": "code",
   "execution_count": null,
   "id": "40ad4981",
   "metadata": {},
   "outputs": [],
   "source": []
  }
 ],
 "metadata": {
  "kernelspec": {
   "display_name": "Python 3 (ipykernel)",
   "language": "python",
   "name": "python3"
  },
  "language_info": {
   "codemirror_mode": {
    "name": "ipython",
    "version": 3
   },
   "file_extension": ".py",
   "mimetype": "text/x-python",
   "name": "python",
   "nbconvert_exporter": "python",
   "pygments_lexer": "ipython3",
   "version": "3.10.9"
  }
 },
 "nbformat": 4,
 "nbformat_minor": 5
}
